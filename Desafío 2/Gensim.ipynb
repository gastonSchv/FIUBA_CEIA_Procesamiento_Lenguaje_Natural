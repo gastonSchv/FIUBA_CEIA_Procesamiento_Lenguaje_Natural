{
 "cells": [
  {
   "cell_type": "markdown",
   "metadata": {},
   "source": [
    "# PLN I\n",
    "\n",
    "## Desafio 2\n",
    "\n",
    "Se utilizará de base para realizar el desafío la notebook planteada en clase."
   ]
  },
  {
   "cell_type": "markdown",
   "metadata": {},
   "source": [
    "Importamos las bilbiotecas que se utilizarán en todo el desafío"
   ]
  },
  {
   "cell_type": "code",
   "execution_count": 1,
   "metadata": {},
   "outputs": [],
   "source": [
    "import pandas as pd\n",
    "import numpy as np\n",
    "\n",
    "from gensim.models import Word2Vec\n",
    "from pypdf import PdfReader\n",
    "import re\n",
    "from tensorflow.keras.preprocessing.text import text_to_word_sequence\n",
    "from gensim.models.callbacks import CallbackAny2Vec\n",
    "\n",
    "from sklearn.manifold import TSNE\n",
    "import plotly.express as px\n",
    "from pathlib import Path"
   ]
  },
  {
   "cell_type": "markdown",
   "metadata": {},
   "source": [
    "## Creación de corpus, prepocesamiento y obtención del modelo"
   ]
  },
  {
   "cell_type": "markdown",
   "metadata": {},
   "source": [
    "Tomaremos como corpus distintos libros obtenidos de https://www.textos.info."
   ]
  },
  {
   "cell_type": "code",
   "execution_count": 2,
   "metadata": {},
   "outputs": [],
   "source": [
    "def build_corpus(pdf_folder):\n",
    "    base_dir = Path.cwd()\n",
    "    pdf_dir  = base_dir / pdf_folder\n",
    "\n",
    "    corpus_parts = []\n",
    "    for pdf_path in pdf_dir.glob(\"*.pdf\"):\n",
    "        with pdf_path.open(\"rb\") as fh:\n",
    "            reader = PdfReader(fh)\n",
    "            pdf_text = \"\".join(page.extract_text() or \"\" for page in reader.pages)\n",
    "            corpus_parts.append(pdf_text)\n",
    "\n",
    "    return \"\\n\".join(corpus_parts)\n",
    "\n",
    "full_text = build_corpus(\"textos\")"
   ]
  },
  {
   "cell_type": "markdown",
   "metadata": {},
   "source": [
    "Luego, tras haber observado el texto, se plantea una limpieza simple de caracteres indeseados, para luego proceder a la separación en oraciones y creación del dataframe con ellas."
   ]
  },
  {
   "cell_type": "code",
   "execution_count": 3,
   "metadata": {},
   "outputs": [],
   "source": [
    "clean_text = full_text.replace('\\n', ' ').strip().replace('—', '').replace('«', '').replace('»', '')\n",
    "\n",
    "def extract_sentences(texto):\n",
    "    oraciones = re.split(r'(?<=[.!?])\\s+', texto.strip())\n",
    "    return [o.strip() for o in oraciones if o.strip()]\n",
    "\n",
    "sentences = extract_sentences(clean_text)\n",
    "\n",
    "df_sentences = pd.DataFrame(sentences, columns=['sentence'])"
   ]
  },
  {
   "cell_type": "markdown",
   "metadata": {},
   "source": [
    "Con el texto limpio, realizamos la separación del texto plano en un array de las palabras conformantes."
   ]
  },
  {
   "cell_type": "code",
   "execution_count": 4,
   "metadata": {},
   "outputs": [],
   "source": [
    "sentence_tokens = []\n",
    "\n",
    "for sentence in df_sentences[\"sentence\"]:\n",
    "    sentence_tokens.append(text_to_word_sequence(sentence))"
   ]
  },
  {
   "cell_type": "markdown",
   "metadata": {},
   "source": [
    "Luego, tomando el código observado en clase, planteo una clase callback para poder luego instanciarla y tener mayor visibilidad de los resultados del entrenamiento."
   ]
  },
  {
   "cell_type": "code",
   "execution_count": 5,
   "metadata": {},
   "outputs": [],
   "source": [
    "class Callback(CallbackAny2Vec):\n",
    "    def __init__(self):\n",
    "        self.epoch = 0\n",
    "        self.losses = []\n",
    "\n",
    "    def on_epoch_end(self, model):\n",
    "        # Usar get_latest_training_loss() correctamente\n",
    "        current_loss = model.get_latest_training_loss()\n",
    "        \n",
    "        if self.epoch == 0:\n",
    "            # Primera época: la pérdida acumulada es la pérdida de esta época\n",
    "            epoch_loss = current_loss\n",
    "            print(f'Loss after epoch {self.epoch}: {epoch_loss}')\n",
    "        else:\n",
    "            # Épocas posteriores: restar la pérdida acumulada anterior\n",
    "            epoch_loss = current_loss - self.losses[-1]\n",
    "            print(f'Loss after epoch {self.epoch}: {epoch_loss}')\n",
    "        \n",
    "        self.losses.append(current_loss)\n",
    "        self.epoch += 1"
   ]
  },
  {
   "cell_type": "markdown",
   "metadata": {},
   "source": [
    "A continuación, instancio el modelo Word2Vec utilizando el modelo skipgram."
   ]
  },
  {
   "cell_type": "code",
   "execution_count": 6,
   "metadata": {},
   "outputs": [],
   "source": [
    "w2v_model = Word2Vec(min_count=3,    \n",
    "                     window=4,       \n",
    "                     vector_size=200, \n",
    "                     negative=20,\n",
    "                     workers=1,\n",
    "                     sg=1)     "
   ]
  },
  {
   "cell_type": "markdown",
   "metadata": {},
   "source": [
    "A partir de las oraciones previamente generados y haciendo uso del modelo w2v_model, generamos el vocabulario y observamos su longitud."
   ]
  },
  {
   "cell_type": "code",
   "execution_count": 7,
   "metadata": {},
   "outputs": [
    {
     "name": "stdout",
     "output_type": "stream",
     "text": [
      "Largo del vocabulario: 10745\n"
     ]
    }
   ],
   "source": [
    "w2v_model.build_vocab(sentence_tokens)\n",
    "print(\"Largo del vocabulario:\", len(w2v_model.wv.index_to_key))"
   ]
  },
  {
   "cell_type": "markdown",
   "metadata": {},
   "source": [
    "Finalmente, entrenamos el modelo generador de vectores"
   ]
  },
  {
   "cell_type": "code",
   "execution_count": 8,
   "metadata": {},
   "outputs": [
    {
     "name": "stdout",
     "output_type": "stream",
     "text": [
      "Loss after epoch 0: 4813678.0\n",
      "Loss after epoch 1: 3500440.5\n",
      "Loss after epoch 2: 3337151.5\n",
      "Loss after epoch 3: 3283053.0\n",
      "Loss after epoch 4: 3205151.0\n",
      "Loss after epoch 5: 3110570.0\n",
      "Loss after epoch 6: 3065288.0\n",
      "Loss after epoch 7: 3011238.0\n",
      "Loss after epoch 8: 2969992.0\n",
      "Loss after epoch 9: 2925176.0\n",
      "Loss after epoch 10: 2933974.0\n",
      "Loss after epoch 11: 2871592.0\n",
      "Loss after epoch 12: 2800084.0\n",
      "Loss after epoch 13: 2728364.0\n",
      "Loss after epoch 14: 2676456.0\n",
      "Loss after epoch 15: 2622104.0\n",
      "Loss after epoch 16: 2575588.0\n",
      "Loss after epoch 17: 2533960.0\n",
      "Loss after epoch 18: 2511260.0\n",
      "Loss after epoch 19: 2471528.0\n",
      "Loss after epoch 20: 2449892.0\n",
      "Loss after epoch 21: 2434528.0\n",
      "Loss after epoch 22: 2311860.0\n",
      "Loss after epoch 23: 602936.0\n",
      "Loss after epoch 24: 597896.0\n",
      "Loss after epoch 25: 592992.0\n",
      "Loss after epoch 26: 585352.0\n",
      "Loss after epoch 27: 584960.0\n",
      "Loss after epoch 28: 583408.0\n",
      "Loss after epoch 29: 575800.0\n",
      "Loss after epoch 30: 573256.0\n",
      "Loss after epoch 31: 571088.0\n",
      "Loss after epoch 32: 566128.0\n",
      "Loss after epoch 33: 564240.0\n",
      "Loss after epoch 34: 558704.0\n",
      "Loss after epoch 35: 557024.0\n",
      "Loss after epoch 36: 548888.0\n",
      "Loss after epoch 37: 548488.0\n",
      "Loss after epoch 38: 543864.0\n",
      "Loss after epoch 39: 540144.0\n",
      "Loss after epoch 40: 533616.0\n",
      "Loss after epoch 41: 534304.0\n",
      "Loss after epoch 42: 527488.0\n",
      "Loss after epoch 43: 522896.0\n",
      "Loss after epoch 44: 520184.0\n",
      "Loss after epoch 45: 515816.0\n",
      "Loss after epoch 46: 516048.0\n",
      "Loss after epoch 47: 511568.0\n",
      "Loss after epoch 48: 504296.0\n",
      "Loss after epoch 49: 503336.0\n",
      "Loss after epoch 50: 498008.0\n",
      "Loss after epoch 51: 494888.0\n",
      "Loss after epoch 52: 490120.0\n",
      "Loss after epoch 53: 490160.0\n",
      "Loss after epoch 54: 480064.0\n",
      "Loss after epoch 55: 480648.0\n",
      "Loss after epoch 56: 474744.0\n",
      "Loss after epoch 57: 475888.0\n",
      "Loss after epoch 58: 467192.0\n",
      "Loss after epoch 59: 465664.0\n",
      "Loss after epoch 60: 463152.0\n",
      "Loss after epoch 61: 459584.0\n",
      "Loss after epoch 62: 454264.0\n",
      "Loss after epoch 63: 452408.0\n",
      "Loss after epoch 64: 446176.0\n",
      "Loss after epoch 65: 447064.0\n",
      "Loss after epoch 66: 441736.0\n",
      "Loss after epoch 67: 435904.0\n",
      "Loss after epoch 68: 432064.0\n",
      "Loss after epoch 69: 429352.0\n",
      "Loss after epoch 70: 425704.0\n",
      "Loss after epoch 71: 421144.0\n",
      "Loss after epoch 72: 418592.0\n",
      "Loss after epoch 73: 412840.0\n",
      "Loss after epoch 74: 412720.0\n",
      "Loss after epoch 75: 410336.0\n",
      "Loss after epoch 76: 405448.0\n",
      "Loss after epoch 77: 396448.0\n",
      "Loss after epoch 78: 398064.0\n",
      "Loss after epoch 79: 392224.0\n",
      "Loss after epoch 80: 389640.0\n",
      "Loss after epoch 81: 387984.0\n",
      "Loss after epoch 82: 386472.0\n",
      "Loss after epoch 83: 377424.0\n",
      "Loss after epoch 84: 377872.0\n",
      "Loss after epoch 85: 371024.0\n",
      "Loss after epoch 86: 365888.0\n",
      "Loss after epoch 87: 363024.0\n",
      "Loss after epoch 88: 360912.0\n",
      "Loss after epoch 89: 359632.0\n",
      "Loss after epoch 90: 355528.0\n",
      "Loss after epoch 91: 350736.0\n",
      "Loss after epoch 92: 342792.0\n",
      "Loss after epoch 93: 343152.0\n",
      "Loss after epoch 94: 340320.0\n",
      "Loss after epoch 95: 336296.0\n",
      "Loss after epoch 96: 332656.0\n",
      "Loss after epoch 97: 326688.0\n",
      "Loss after epoch 98: 320320.0\n",
      "Loss after epoch 99: 316040.0\n"
     ]
    },
    {
     "data": {
      "text/plain": [
       "(31051065, 45717200)"
      ]
     },
     "execution_count": 8,
     "metadata": {},
     "output_type": "execute_result"
    }
   ],
   "source": [
    "callback = Callback()\n",
    "w2v_model.train(sentence_tokens,\n",
    "                total_examples=w2v_model.corpus_count,\n",
    "                epochs=100,\n",
    "                compute_loss=True,\n",
    "                callbacks=[callback])"
   ]
  },
  {
   "cell_type": "code",
   "execution_count": 9,
   "metadata": {},
   "outputs": [
    {
     "name": "stdout",
     "output_type": "stream",
     "text": [
      "Tamaño del vocabulario: 10745\n",
      "total_examples: 30496\n",
      "total_words: 457172\n"
     ]
    }
   ],
   "source": [
    "print(\"Tamaño del vocabulario:\", len(w2v_model.wv))\n",
    "print(\"total_examples:\", w2v_model.corpus_count)      # después de build_vocab\n",
    "print(\"total_words:\",   w2v_model.corpus_total_words) # idem"
   ]
  },
  {
   "cell_type": "markdown",
   "metadata": {},
   "source": [
    "## Test de analogías"
   ]
  },
  {
   "cell_type": "markdown",
   "metadata": {},
   "source": [
    "Investigamos los resultados obtenidos para distintas palabras de forma tal que podamos tener una visión cualitativa de la representación semántica obtenida en los embeddings. Para distintas palabras obtenemos los 10 términos más cercanos y más lejanos."
   ]
  },
  {
   "cell_type": "markdown",
   "metadata": {},
   "source": [
    "Para **AMOR**"
   ]
  },
  {
   "cell_type": "code",
   "execution_count": 10,
   "metadata": {},
   "outputs": [
    {
     "data": {
      "text/plain": [
       "[('afrenta', 0.399025022983551),\n",
       " ('atribuirlo', 0.3874158263206482),\n",
       " ('avanzado', 0.37406113743782043),\n",
       " ('dios', 0.37073183059692383),\n",
       " ('amado', 0.3676939308643341),\n",
       " ('tranquilícese', 0.3587466776371002),\n",
       " ('alimento', 0.353460431098938),\n",
       " ('jurado', 0.34900417923927307),\n",
       " ('síntoma', 0.34878504276275635),\n",
       " ('¡alabado', 0.3475513160228729)]"
      ]
     },
     "execution_count": 10,
     "metadata": {},
     "output_type": "execute_result"
    }
   ],
   "source": [
    "w2v_model.wv.most_similar(positive=[\"amor\"], topn=10)"
   ]
  },
  {
   "cell_type": "code",
   "execution_count": 11,
   "metadata": {},
   "outputs": [
    {
     "data": {
      "text/plain": [
       "[('encontró', 0.1185823604464531),\n",
       " ('ponen', 0.09690879285335541),\n",
       " ('netherfield', 0.08403855562210083),\n",
       " ('estuvo', 0.07715610414743423),\n",
       " ('vería', 0.07145251333713531),\n",
       " ('antiguos', 0.06357530504465103),\n",
       " ('¡juventud', 0.06144867092370987),\n",
       " ('preguntarle', 0.060278117656707764),\n",
       " ('vestido', 0.05960054323077202),\n",
       " ('señoras', 0.058236222714185715)]"
      ]
     },
     "execution_count": 11,
     "metadata": {},
     "output_type": "execute_result"
    }
   ],
   "source": [
    "w2v_model.wv.most_similar(negative=[\"amor\"], topn=10)"
   ]
  },
  {
   "cell_type": "markdown",
   "metadata": {},
   "source": [
    "Se observa que entre los más cercanos aparecen palabras con alta probabilidad de estar asociadas a afecto o relaciones (“amado”, “sentía”, “¡déjame”, “¡vete”), lo que indica que el modelo parece captura parte del campo semántico emocional. A pesar de ello, los valores de similitud son relativamente bajos y se presentan términos que no parecen conteneder una relación semántica fuerte.\n",
    "\n",
    "Los terminos más lejanos no presentan ninguna relación directa con la palabra amor, por lo que puede considerar que es correcta la distancia obtenida."
   ]
  },
  {
   "cell_type": "markdown",
   "metadata": {},
   "source": [
    "Para **CASA**"
   ]
  },
  {
   "cell_type": "code",
   "execution_count": 12,
   "metadata": {},
   "outputs": [
    {
     "data": {
      "text/plain": [
       "[('potchinkoff', 0.47556817531585693),\n",
       " ('saville', 0.40614116191864014),\n",
       " ('parroquial', 0.3982153534889221),\n",
       " ('¡dorian', 0.39444833993911743),\n",
       " ('longbourn', 0.38412782549858093),\n",
       " ('núm', 0.3776700496673584),\n",
       " ('domicilio', 0.37437301874160767),\n",
       " ('row', 0.3730911612510681),\n",
       " ('habitación', 0.37281668186187744),\n",
       " ('rezando', 0.36897754669189453)]"
      ]
     },
     "execution_count": 12,
     "metadata": {},
     "output_type": "execute_result"
    }
   ],
   "source": [
    "w2v_model.wv.most_similar(positive=[\"casa\"], topn=10)"
   ]
  },
  {
   "cell_type": "code",
   "execution_count": 13,
   "metadata": {},
   "outputs": [
    {
     "data": {
      "text/plain": [
       "[('¡pardiez', 0.14524158835411072),\n",
       " ('grave', 0.08806530386209488),\n",
       " ('terminar', 0.0766368880867958),\n",
       " ('mozo', 0.07024313509464264),\n",
       " ('conmovida', 0.06022975593805313),\n",
       " ('carece', 0.05976417288184166),\n",
       " ('llenó', 0.05616145208477974),\n",
       " ('entero', 0.05566224083304405),\n",
       " ('único', 0.054190292954444885),\n",
       " ('¡juventud', 0.05227229371666908)]"
      ]
     },
     "execution_count": 13,
     "metadata": {},
     "output_type": "execute_result"
    }
   ],
   "source": [
    "w2v_model.wv.most_similar(negative=[\"casa\"], topn=10)"
   ]
  },
  {
   "cell_type": "markdown",
   "metadata": {},
   "source": [
    "Se observa que los términos próximos apuntan a habitaciones o lugares físicos internos (“habitación”, “alcoba”, “cuartito”), lo que es semánticamente correcto. Asimismo, se observa que nombres propios de distintas novelas cuyo contexto está asociado a \"casa\".\n",
    "- \"Potchinkoff\" es un personaje de \"Crimen y Castigo\", al cual se lo menciona 3 veces en la novela y en todas, la frase que lo hace es \"Casa de Potchinkoff\"\n",
    "- \"saville\", al igual que con \"Potchinkoff\", es mencionado en reiteradas ocaciones en la novela \"La vuelta al mundo en 80 días\" es frases junto a la palabra \"casa\"\n",
    "- \"longbourn\" es un pueblo nombrado en la novela \"Orgullo y prejuicio\". En la novela se observa que es nombrado frecuentemente junto a palabras como \"vivia\" o similares, las cuales podrían generar una cercanía semántica con \"casa\"\n",
    "\n",
    "Adicionalmente, los valores de similud son mejores que los observados en \"amor\", resultado que se aprecia por el conjunto de palabras obtenido.\n",
    "\n",
    "Las palabras lejanas no se observa ninguna relación directa con casa ni locaciones, por lo que se considera correcto."
   ]
  },
  {
   "cell_type": "markdown",
   "metadata": {},
   "source": [
    "Para **HIJA**"
   ]
  },
  {
   "cell_type": "code",
   "execution_count": 14,
   "metadata": {},
   "outputs": [
    {
     "data": {
      "text/plain": [
       "[('educada', 0.4036574065685272),\n",
       " ('viudo', 0.39133313298225403),\n",
       " ('colegio', 0.3758120536804199),\n",
       " ('¡madre', 0.3676969110965729),\n",
       " ('deseó', 0.3608778715133667),\n",
       " ('activa', 0.3595145344734192),\n",
       " ('¡rodia', 0.3590278625488281),\n",
       " ('¡hija', 0.35249465703964233),\n",
       " ('margaret', 0.3518632650375366),\n",
       " ('wickham', 0.35030096769332886)]"
      ]
     },
     "execution_count": 14,
     "metadata": {},
     "output_type": "execute_result"
    }
   ],
   "source": [
    "w2v_model.wv.most_similar(positive=[\"hija\"], topn=10)"
   ]
  },
  {
   "cell_type": "code",
   "execution_count": 15,
   "metadata": {},
   "outputs": [
    {
     "data": {
      "text/plain": [
       "[('¡pardiez', 0.18651004135608673),\n",
       " ('buques', 0.15995362401008606),\n",
       " ('despertaron', 0.13004595041275024),\n",
       " ('animadas', 0.08714123070240021),\n",
       " ('amables', 0.08316412568092346),\n",
       " ('numerosos', 0.08046203851699829),\n",
       " ('permanecieron', 0.07821153849363327),\n",
       " ('continuaron', 0.0772058442234993),\n",
       " ('comprendió', 0.07690193504095078),\n",
       " ('vasos', 0.0756891593337059)]"
      ]
     },
     "execution_count": 15,
     "metadata": {},
     "output_type": "execute_result"
    }
   ],
   "source": [
    "w2v_model.wv.most_similar(negative=[\"hija\"], topn=10)"
   ]
  },
  {
   "cell_type": "markdown",
   "metadata": {},
   "source": [
    "Se observan palabras cercanas al rol familiar o la educación: “educada”, “colegio” y “compañera”. Esto muestra que el modelo relaciona hija con contexto familiar. Los nombres propios como \"wickham\" y \"Potchinkoff\" son personajes de las novelas que conforman el corpus, aunque se desconoce su conexión semántica con la palabra \"hija\" según el desarrollo de las novelas.\n",
    "\n",
    "Las palabras lejanas no se observa ninguna relación directa con hija, por lo que se considera correcto."
   ]
  },
  {
   "cell_type": "markdown",
   "metadata": {},
   "source": [
    "Continuando con la investigación, planteamos operaciones entre distintos vectores para obtener un vector resultante, buscando de esa manera identificar si los vectores poseen un sentido claro a lo largo de sus distintas dimensiones. Para eso utilizamos la funcionalidad most_similar, configurando correctamente los términos positivos y negativos. "
   ]
  },
  {
   "cell_type": "code",
   "execution_count": 16,
   "metadata": {},
   "outputs": [],
   "source": [
    "def analogy(pos1, pos2, neg, topn=10):\n",
    "    return w2v_model.wv.most_similar(positive=[pos1, pos2], negative=[neg], topn=topn)"
   ]
  },
  {
   "cell_type": "markdown",
   "metadata": {},
   "source": [
    "Creada la function, observamos distintos términos y evaluamos el resultado obtenido. "
   ]
  },
  {
   "cell_type": "code",
   "execution_count": 17,
   "metadata": {},
   "outputs": [
    {
     "name": "stdout",
     "output_type": "stream",
     "text": [
      "[('colegio', 0.3525211215019226), ('empleado', 0.34867748618125916), ('educada', 0.30117475986480713), ('obsequio', 0.29565364122390747), ('despedido', 0.29350218176841736), ('activa', 0.2933144271373749), ('advierte', 0.2930837869644165), ('viuda', 0.29054850339889526), ('reprochable', 0.29054635763168335), ('poderes', 0.29033350944519043)]\n",
      "[('húmedo', 0.32737496495246887), ('nervio', 0.30895280838012695), ('echaban', 0.3061980605125427), ('tierna', 0.2806163430213928), ('moreno', 0.28059956431388855), ('hundida', 0.2779492437839508), ('telón', 0.2745162546634674), ('pareces', 0.26990872621536255), ('independiente', 0.2678249776363373), ('interminables', 0.2675785720348358)]\n",
      "[('da', 0.3343045115470886), ('herido', 0.3101859390735626), ('¡vamos', 0.3064868748188019), ('levantarse', 0.3057457506656647), ('delito', 0.3014605939388275), ('unidos', 0.30112603306770325), ('dedicarse', 0.299754798412323), ('anonadado', 0.2961161136627197), ('¿iba', 0.29505404829978943), ('aprieto', 0.291415810585022)]\n"
     ]
    }
   ],
   "source": [
    "terms_list = [\n",
    "    [\"padre\",\"hija\",\"madre\"],\n",
    "    [\"cuerpo\",\"boca\",\"puerta\"], \n",
    "    [\"cama\",\"viajar\",\"dormir\"]\n",
    "]\n",
    "\n",
    "for term in terms_list:\n",
    "    print(analogy(term[0],term[1],term[2]))"
   ]
  },
  {
   "cell_type": "markdown",
   "metadata": {},
   "source": [
    "**Conclusión:**\n",
    "\n",
    "A partir de los resultados observados, podemos mencionar que el modelo actual sí refleja algunos resultados significativos, pero no cuenta con suficiente información para sostener analogías algebraicas fiables.\n",
    "\n",
    "Es posible que el tamaño del embedding elegido (200) o el tamaño del corpus hayan limitado la capacidad de poder plantear emebeddings que contengan en sus dimensiones un representación semántica tal que sea posible generar asociaciones confiables a partir de operaciones algebraicas entre ellos."
   ]
  },
  {
   "cell_type": "markdown",
   "metadata": {},
   "source": [
    "## Observación mediante reducción de la dimensionalidad"
   ]
  },
  {
   "cell_type": "markdown",
   "metadata": {},
   "source": [
    "Para poder ver gráficamente las relaciones entre los ditintos términos que componente el vocabulario, plateo un reducción de la dimensionalidad a partir del método t-SNE"
   ]
  },
  {
   "cell_type": "markdown",
   "metadata": {},
   "source": [
    "Primero, planteamos la function para poder plantear visualizaciones en 2D y 3D respectivamente, basándome en la function vista en clase."
   ]
  },
  {
   "cell_type": "code",
   "execution_count": 18,
   "metadata": {},
   "outputs": [],
   "source": [
    "def reduce_dimensionality(model, dimensions = 2 ):\n",
    "    wv_vectors = np.asarray(model.wv.vectors)\n",
    "    labels = np.asarray(model.wv.index_to_key)  \n",
    "\n",
    "    tsne = TSNE(n_components=dimensions, random_state=42)\n",
    "    wv_vectors = tsne.fit_transform(wv_vectors)\n",
    "    return wv_vectors, labels"
   ]
  },
  {
   "cell_type": "markdown",
   "metadata": {},
   "source": [
    "Para **2D**"
   ]
  },
  {
   "cell_type": "code",
   "execution_count": 19,
   "metadata": {},
   "outputs": [
    {
     "data": {
      "application/vnd.plotly.v1+json": {
       "config": {
        "plotlyServerURL": "https://plot.ly"
       },
       "data": [
        {
         "hovertemplate": "x=%{x}<br>y=%{y}<br>text=%{text}<extra></extra>",
         "legendgroup": "",
         "marker": {
          "color": "#636efa",
          "symbol": "circle"
         },
         "mode": "markers+text",
         "name": "",
         "orientation": "v",
         "showlegend": false,
         "text": [
          "de",
          "que",
          "la",
          "a",
          "y",
          "en",
          "el",
          "no",
          "se",
          "su",
          "con",
          "un",
          "por",
          "los",
          "lo",
          "una",
          "le",
          "las",
          "al",
          "es",
          "pero",
          "del",
          "había",
          "para",
          "me",
          "más",
          "usted",
          "como",
          "sus",
          "era",
          "si",
          "sin",
          "todo",
          "ha",
          "mi",
          "cuando",
          "muy",
          "él",
          "estaba",
          "yo",
          "qué",
          "tan",
          "he",
          "ya",
          "te",
          "dijo",
          "raskolnikoff",
          "elizabeth",
          "señor",
          "después",
          "sobre",
          "ella",
          "casa",
          "o",
          "dos",
          "bien",
          "nada",
          "tenía",
          "joven",
          "sí",
          "ni",
          "esta",
          "tiempo",
          "porque",
          "vez",
          "hasta",
          "ser",
          "fogg",
          "este",
          "ahora",
          "darcy",
          "eso",
          "¿qué",
          "mismo",
          "poco",
          "todos",
          "esto",
          "momento",
          "mucho",
          "sido",
          "otra",
          "está",
          "dorian",
          "señora",
          "hombre",
          "decir",
          "hecho",
          "ese",
          "siempre",
          "sólo",
          "ojos",
          "hacer",
          "así",
          "podía",
          "puerta",
          "algo",
          "desde",
          "día",
          "hermana",
          "antes",
          "menos",
          "entre",
          "tiene",
          "nunca",
          "también",
          "otro",
          "parte",
          "aquí",
          "cosa",
          "picaporte",
          "vida",
          "aquel",
          "aunque",
          "madre",
          "haber",
          "todas",
          "durante",
          "bingley",
          "hay",
          "ver",
          "hacia",
          "entonces",
          "toda",
          "modo",
          "pues",
          "mí",
          "sonia",
          "son",
          "puede",
          "allí",
          "tu",
          "habían",
          "fue",
          "uno",
          "hubiera",
          "habitación",
          "tengo",
          "hace",
          "mejor",
          "cabeza",
          "exclamó",
          "esa",
          "respondió",
          "parecía",
          "bennet",
          "jane",
          "veces",
          "tal",
          "nos",
          "voz",
          "mundo",
          "preguntó",
          "hacía",
          "les",
          "tanto",
          "tú",
          "cosas",
          "gran",
          "¿por",
          "padre",
          "embargo",
          "razumikin",
          "¿no",
          "cuanto",
          "estoy",
          "noche",
          "hizo",
          "casi",
          "quien",
          "hubiese",
          "ellos",
          "mientras",
          "lord",
          "aquella",
          "días",
          "estado",
          "phileas",
          "tres",
          "señorita",
          "palabras",
          "hablar",
          "mujer",
          "nadie",
          "fin",
          "mañana",
          "misma",
          "sé",
          "gray",
          "mano",
          "iba",
          "gregorio",
          "cierto",
          "fix",
          "habría",
          "mister",
          "wickham",
          "henry",
          "visto",
          "dicho",
          "alguna"
         ],
         "type": "scatter",
         "x": {
          "bdata": "zzWlvvGao78d566+obVGv31utb7Ehqi++rzcvmYC0L/ZuRW/STtDvzwWy77nf8i+VwM6v0ZuIkAM7/a/kqAkvkv5m7+tlr0/rbwRv9CYL8BQzam/YOwZPsBQLL9BnZq/Bkg/wBW3lb8e4DnAmdY6v0vnAkB/rmG/p+FqwHo47j2G77i/Sc26wHSisL+W4d6+AZxov9SCRL8GDru/klgiwG7y6cA7ZGy/Pi69wHMllr/W/JzArs3WwBkKW7+H/ZfA2DaQwA/qRcDkiu6/dZh9v9mlz76OVfi+iH8pQF3Fo79kbeO/kMv+vi/O8b58Hsy//mQpPy2u+8CM1BHAu7eYv6+y9cDDtLS+KoSnvti11cBifhC/kzyrvyn3j8CoHBbA2dvwvyf4Rr//uE6/bTDOwPwv1b80DB/AVJCuv2khAcB7fuK/MRurvyDzHcEG77nAtZ7JwNKCs7+MKD/AJ2Gbvsh7dr+85iu/yi9aQDmBjL9BqvrA3CHgvki6A0D8Qs6/vsoQP/ynhMDNa26/d5glvywmL79gUs69Hj6+wBDmp79KooC/UiPZQHYipsC4x0i/i9qsvxn2+77kDEe/GVGXvleIo7/xelq/jzWgwBfn10AOiBw8anSUwGxGLMAI9mC/E5Agvu++OL+wbQfBKLKLwBF2sr+IzwDAT+Y+vxvd8j/dAMbAqs55wAgzK7/HGsW+lW42wA7UGkCA4fy+1VAAQNDvccDOx7y/SjDLv0UaCcB3HtjAPKEGwSKX2MBTrby/jw+5wMp7mMBJvtO/h0Apv3jtNsDF2QjAx658vzio18C4gQS/hZCGv/peMr/9tYbAsKzrwB+uEr/t/evAaM4Qv98PsD5VHY6/mXqowDPWgL+1SFHALrqjv/REuL4rbxS/8HxJv+Ure8DeCwHBrguVvyu48MCdi5DA5wutQOob3b7zxNXAvW8wQBLed8BJAqY+yvicv8byKb80f86/O1T7vuQmU76/spi+uCyIwJL1HcGE8RzAe84Nv+qoWMD6E2PApXzAwHM9HMAhCNbAX+mgv0i68MDWJqjA1dCwv+5szMA=",
          "dtype": "f4"
         },
         "xaxis": "x",
         "y": {
          "bdata": "tegsPtq3Lr28F/Q+nDE0PgrHxD5FnYQ+FgMRP67fyb1ZGhY/hMz9PriTbj9/Bgk/1NpdPbm3579+cy++KpUDPz4tCj9ZvxLA/yIjP62Jwb+tlUE+UIoQPw3LPz/CPaG9ICBov3nRur1cyDq/ZaiaPrITU8Bf/fc+TsnsPoAe8T53Bx8+EYeVvxZqdr4ckrE+w080PvqG1T74hc8/DDk6vy07kcD3VoI+UPCWv9knIz6tyALAPy2vQJABNz8oJ5BA+Lh+QJQyh0ADfqhA0muGPjA9sD555YI9idnTwArd0L0rh0u9YQA1PqD/zT7tYMg+XSOiPnZGkb5SG5xAB3N5PaBYA0BSZrQ+hH8ivSZj40C4i9I+dpPjPedSg0BfuJu+qdtGvi98uT61g6U+C9fCwAld9jyujJZAYqPhvWJ3mD9XzcA/SsQmvzbWJUDUwapArxoVQOxV7j1oxhg/zbMiP3pmbz0AdDY94RVPQLCcpj2WWaHAx1XMPslMl0DB/UI+5O3WPxQs6kCjUSM+j4SpPsVqsz1dVwJBBEF3vxMnUj3xppc+xc2FwKdjI0AE4Mw+dMNfvO59Dj96g8G8s0EiP51MJj4F5/Q+DMlDQBRtncCeES3A4fGGQN1VvL/SQ/M9fyVfP1eVvj5f+DHAD+hePxlNAj46H4q8E0XDPlldgsCrO2nA6rxEQFoWwT4r5Xo/UJ+cQNbQosB2ozQ/b1OpQCWwYL7Hemo8HxCrvvX5uUApybBAEGyrvtazr0CODZw/FgOqQJuXjkB904zAK7ZDP8h4y75As35A2NnZPlfOr0A7DpM+wpgfP/6X8D3mwFDA7h/EPhR60sBJVpLAOldOPth+Cz/JOVQ/7h0JwKiz9z2HzN2/ClmAwDiI+T5O+Xg+pUm6PkkpRT9lSEbAHOuNQAIw3ECPPszAcHWwwECJBD9AXONAqdzWwBGoYUCMsBtAooqTPnR9DT5JqMU9TN8BPyyVgz9N5s8+GDqXv4fWJUA/1ZlA6byDPojLtj9zd5i/sPjGQJSMhj9Zj+NAN3UIP1oz3EA734s/aO2QPUUA1z8=",
          "dtype": "f4"
         },
         "yaxis": "y"
        }
       ],
       "layout": {
        "legend": {
         "tracegroupgap": 0
        },
        "margin": {
         "t": 60
        },
        "template": {
         "data": {
          "bar": [
           {
            "error_x": {
             "color": "#2a3f5f"
            },
            "error_y": {
             "color": "#2a3f5f"
            },
            "marker": {
             "line": {
              "color": "#E5ECF6",
              "width": 0.5
             },
             "pattern": {
              "fillmode": "overlay",
              "size": 10,
              "solidity": 0.2
             }
            },
            "type": "bar"
           }
          ],
          "barpolar": [
           {
            "marker": {
             "line": {
              "color": "#E5ECF6",
              "width": 0.5
             },
             "pattern": {
              "fillmode": "overlay",
              "size": 10,
              "solidity": 0.2
             }
            },
            "type": "barpolar"
           }
          ],
          "carpet": [
           {
            "aaxis": {
             "endlinecolor": "#2a3f5f",
             "gridcolor": "white",
             "linecolor": "white",
             "minorgridcolor": "white",
             "startlinecolor": "#2a3f5f"
            },
            "baxis": {
             "endlinecolor": "#2a3f5f",
             "gridcolor": "white",
             "linecolor": "white",
             "minorgridcolor": "white",
             "startlinecolor": "#2a3f5f"
            },
            "type": "carpet"
           }
          ],
          "choropleth": [
           {
            "colorbar": {
             "outlinewidth": 0,
             "ticks": ""
            },
            "type": "choropleth"
           }
          ],
          "contour": [
           {
            "colorbar": {
             "outlinewidth": 0,
             "ticks": ""
            },
            "colorscale": [
             [
              0,
              "#0d0887"
             ],
             [
              0.1111111111111111,
              "#46039f"
             ],
             [
              0.2222222222222222,
              "#7201a8"
             ],
             [
              0.3333333333333333,
              "#9c179e"
             ],
             [
              0.4444444444444444,
              "#bd3786"
             ],
             [
              0.5555555555555556,
              "#d8576b"
             ],
             [
              0.6666666666666666,
              "#ed7953"
             ],
             [
              0.7777777777777778,
              "#fb9f3a"
             ],
             [
              0.8888888888888888,
              "#fdca26"
             ],
             [
              1,
              "#f0f921"
             ]
            ],
            "type": "contour"
           }
          ],
          "contourcarpet": [
           {
            "colorbar": {
             "outlinewidth": 0,
             "ticks": ""
            },
            "type": "contourcarpet"
           }
          ],
          "heatmap": [
           {
            "colorbar": {
             "outlinewidth": 0,
             "ticks": ""
            },
            "colorscale": [
             [
              0,
              "#0d0887"
             ],
             [
              0.1111111111111111,
              "#46039f"
             ],
             [
              0.2222222222222222,
              "#7201a8"
             ],
             [
              0.3333333333333333,
              "#9c179e"
             ],
             [
              0.4444444444444444,
              "#bd3786"
             ],
             [
              0.5555555555555556,
              "#d8576b"
             ],
             [
              0.6666666666666666,
              "#ed7953"
             ],
             [
              0.7777777777777778,
              "#fb9f3a"
             ],
             [
              0.8888888888888888,
              "#fdca26"
             ],
             [
              1,
              "#f0f921"
             ]
            ],
            "type": "heatmap"
           }
          ],
          "histogram": [
           {
            "marker": {
             "pattern": {
              "fillmode": "overlay",
              "size": 10,
              "solidity": 0.2
             }
            },
            "type": "histogram"
           }
          ],
          "histogram2d": [
           {
            "colorbar": {
             "outlinewidth": 0,
             "ticks": ""
            },
            "colorscale": [
             [
              0,
              "#0d0887"
             ],
             [
              0.1111111111111111,
              "#46039f"
             ],
             [
              0.2222222222222222,
              "#7201a8"
             ],
             [
              0.3333333333333333,
              "#9c179e"
             ],
             [
              0.4444444444444444,
              "#bd3786"
             ],
             [
              0.5555555555555556,
              "#d8576b"
             ],
             [
              0.6666666666666666,
              "#ed7953"
             ],
             [
              0.7777777777777778,
              "#fb9f3a"
             ],
             [
              0.8888888888888888,
              "#fdca26"
             ],
             [
              1,
              "#f0f921"
             ]
            ],
            "type": "histogram2d"
           }
          ],
          "histogram2dcontour": [
           {
            "colorbar": {
             "outlinewidth": 0,
             "ticks": ""
            },
            "colorscale": [
             [
              0,
              "#0d0887"
             ],
             [
              0.1111111111111111,
              "#46039f"
             ],
             [
              0.2222222222222222,
              "#7201a8"
             ],
             [
              0.3333333333333333,
              "#9c179e"
             ],
             [
              0.4444444444444444,
              "#bd3786"
             ],
             [
              0.5555555555555556,
              "#d8576b"
             ],
             [
              0.6666666666666666,
              "#ed7953"
             ],
             [
              0.7777777777777778,
              "#fb9f3a"
             ],
             [
              0.8888888888888888,
              "#fdca26"
             ],
             [
              1,
              "#f0f921"
             ]
            ],
            "type": "histogram2dcontour"
           }
          ],
          "mesh3d": [
           {
            "colorbar": {
             "outlinewidth": 0,
             "ticks": ""
            },
            "type": "mesh3d"
           }
          ],
          "parcoords": [
           {
            "line": {
             "colorbar": {
              "outlinewidth": 0,
              "ticks": ""
             }
            },
            "type": "parcoords"
           }
          ],
          "pie": [
           {
            "automargin": true,
            "type": "pie"
           }
          ],
          "scatter": [
           {
            "fillpattern": {
             "fillmode": "overlay",
             "size": 10,
             "solidity": 0.2
            },
            "type": "scatter"
           }
          ],
          "scatter3d": [
           {
            "line": {
             "colorbar": {
              "outlinewidth": 0,
              "ticks": ""
             }
            },
            "marker": {
             "colorbar": {
              "outlinewidth": 0,
              "ticks": ""
             }
            },
            "type": "scatter3d"
           }
          ],
          "scattercarpet": [
           {
            "marker": {
             "colorbar": {
              "outlinewidth": 0,
              "ticks": ""
             }
            },
            "type": "scattercarpet"
           }
          ],
          "scattergeo": [
           {
            "marker": {
             "colorbar": {
              "outlinewidth": 0,
              "ticks": ""
             }
            },
            "type": "scattergeo"
           }
          ],
          "scattergl": [
           {
            "marker": {
             "colorbar": {
              "outlinewidth": 0,
              "ticks": ""
             }
            },
            "type": "scattergl"
           }
          ],
          "scattermap": [
           {
            "marker": {
             "colorbar": {
              "outlinewidth": 0,
              "ticks": ""
             }
            },
            "type": "scattermap"
           }
          ],
          "scattermapbox": [
           {
            "marker": {
             "colorbar": {
              "outlinewidth": 0,
              "ticks": ""
             }
            },
            "type": "scattermapbox"
           }
          ],
          "scatterpolar": [
           {
            "marker": {
             "colorbar": {
              "outlinewidth": 0,
              "ticks": ""
             }
            },
            "type": "scatterpolar"
           }
          ],
          "scatterpolargl": [
           {
            "marker": {
             "colorbar": {
              "outlinewidth": 0,
              "ticks": ""
             }
            },
            "type": "scatterpolargl"
           }
          ],
          "scatterternary": [
           {
            "marker": {
             "colorbar": {
              "outlinewidth": 0,
              "ticks": ""
             }
            },
            "type": "scatterternary"
           }
          ],
          "surface": [
           {
            "colorbar": {
             "outlinewidth": 0,
             "ticks": ""
            },
            "colorscale": [
             [
              0,
              "#0d0887"
             ],
             [
              0.1111111111111111,
              "#46039f"
             ],
             [
              0.2222222222222222,
              "#7201a8"
             ],
             [
              0.3333333333333333,
              "#9c179e"
             ],
             [
              0.4444444444444444,
              "#bd3786"
             ],
             [
              0.5555555555555556,
              "#d8576b"
             ],
             [
              0.6666666666666666,
              "#ed7953"
             ],
             [
              0.7777777777777778,
              "#fb9f3a"
             ],
             [
              0.8888888888888888,
              "#fdca26"
             ],
             [
              1,
              "#f0f921"
             ]
            ],
            "type": "surface"
           }
          ],
          "table": [
           {
            "cells": {
             "fill": {
              "color": "#EBF0F8"
             },
             "line": {
              "color": "white"
             }
            },
            "header": {
             "fill": {
              "color": "#C8D4E3"
             },
             "line": {
              "color": "white"
             }
            },
            "type": "table"
           }
          ]
         },
         "layout": {
          "annotationdefaults": {
           "arrowcolor": "#2a3f5f",
           "arrowhead": 0,
           "arrowwidth": 1
          },
          "autotypenumbers": "strict",
          "coloraxis": {
           "colorbar": {
            "outlinewidth": 0,
            "ticks": ""
           }
          },
          "colorscale": {
           "diverging": [
            [
             0,
             "#8e0152"
            ],
            [
             0.1,
             "#c51b7d"
            ],
            [
             0.2,
             "#de77ae"
            ],
            [
             0.3,
             "#f1b6da"
            ],
            [
             0.4,
             "#fde0ef"
            ],
            [
             0.5,
             "#f7f7f7"
            ],
            [
             0.6,
             "#e6f5d0"
            ],
            [
             0.7,
             "#b8e186"
            ],
            [
             0.8,
             "#7fbc41"
            ],
            [
             0.9,
             "#4d9221"
            ],
            [
             1,
             "#276419"
            ]
           ],
           "sequential": [
            [
             0,
             "#0d0887"
            ],
            [
             0.1111111111111111,
             "#46039f"
            ],
            [
             0.2222222222222222,
             "#7201a8"
            ],
            [
             0.3333333333333333,
             "#9c179e"
            ],
            [
             0.4444444444444444,
             "#bd3786"
            ],
            [
             0.5555555555555556,
             "#d8576b"
            ],
            [
             0.6666666666666666,
             "#ed7953"
            ],
            [
             0.7777777777777778,
             "#fb9f3a"
            ],
            [
             0.8888888888888888,
             "#fdca26"
            ],
            [
             1,
             "#f0f921"
            ]
           ],
           "sequentialminus": [
            [
             0,
             "#0d0887"
            ],
            [
             0.1111111111111111,
             "#46039f"
            ],
            [
             0.2222222222222222,
             "#7201a8"
            ],
            [
             0.3333333333333333,
             "#9c179e"
            ],
            [
             0.4444444444444444,
             "#bd3786"
            ],
            [
             0.5555555555555556,
             "#d8576b"
            ],
            [
             0.6666666666666666,
             "#ed7953"
            ],
            [
             0.7777777777777778,
             "#fb9f3a"
            ],
            [
             0.8888888888888888,
             "#fdca26"
            ],
            [
             1,
             "#f0f921"
            ]
           ]
          },
          "colorway": [
           "#636efa",
           "#EF553B",
           "#00cc96",
           "#ab63fa",
           "#FFA15A",
           "#19d3f3",
           "#FF6692",
           "#B6E880",
           "#FF97FF",
           "#FECB52"
          ],
          "font": {
           "color": "#2a3f5f"
          },
          "geo": {
           "bgcolor": "white",
           "lakecolor": "white",
           "landcolor": "#E5ECF6",
           "showlakes": true,
           "showland": true,
           "subunitcolor": "white"
          },
          "hoverlabel": {
           "align": "left"
          },
          "hovermode": "closest",
          "mapbox": {
           "style": "light"
          },
          "paper_bgcolor": "white",
          "plot_bgcolor": "#E5ECF6",
          "polar": {
           "angularaxis": {
            "gridcolor": "white",
            "linecolor": "white",
            "ticks": ""
           },
           "bgcolor": "#E5ECF6",
           "radialaxis": {
            "gridcolor": "white",
            "linecolor": "white",
            "ticks": ""
           }
          },
          "scene": {
           "xaxis": {
            "backgroundcolor": "#E5ECF6",
            "gridcolor": "white",
            "gridwidth": 2,
            "linecolor": "white",
            "showbackground": true,
            "ticks": "",
            "zerolinecolor": "white"
           },
           "yaxis": {
            "backgroundcolor": "#E5ECF6",
            "gridcolor": "white",
            "gridwidth": 2,
            "linecolor": "white",
            "showbackground": true,
            "ticks": "",
            "zerolinecolor": "white"
           },
           "zaxis": {
            "backgroundcolor": "#E5ECF6",
            "gridcolor": "white",
            "gridwidth": 2,
            "linecolor": "white",
            "showbackground": true,
            "ticks": "",
            "zerolinecolor": "white"
           }
          },
          "shapedefaults": {
           "line": {
            "color": "#2a3f5f"
           }
          },
          "ternary": {
           "aaxis": {
            "gridcolor": "white",
            "linecolor": "white",
            "ticks": ""
           },
           "baxis": {
            "gridcolor": "white",
            "linecolor": "white",
            "ticks": ""
           },
           "bgcolor": "#E5ECF6",
           "caxis": {
            "gridcolor": "white",
            "linecolor": "white",
            "ticks": ""
           }
          },
          "title": {
           "x": 0.05
          },
          "xaxis": {
           "automargin": true,
           "gridcolor": "white",
           "linecolor": "white",
           "ticks": "",
           "title": {
            "standoff": 15
           },
           "zerolinecolor": "white",
           "zerolinewidth": 2
          },
          "yaxis": {
           "automargin": true,
           "gridcolor": "white",
           "linecolor": "white",
           "ticks": "",
           "title": {
            "standoff": 15
           },
           "zerolinecolor": "white",
           "zerolinewidth": 2
          }
         }
        },
        "xaxis": {
         "anchor": "y",
         "domain": [
          0,
          1
         ],
         "title": {
          "text": "x"
         }
        },
        "yaxis": {
         "anchor": "x",
         "domain": [
          0,
          1
         ],
         "title": {
          "text": "y"
         }
        }
       }
      }
     },
     "metadata": {},
     "output_type": "display_data"
    }
   ],
   "source": [
    "vecs, labels = reduce_dimensionality(w2v_model)\n",
    "\n",
    "MAX_WORDS_2D=200\n",
    "fig = px.scatter(x=vecs[:MAX_WORDS_2D,0], y=vecs[:MAX_WORDS_2D,1], text=labels[:MAX_WORDS_2D])\n",
    "fig.show()"
   ]
  },
  {
   "cell_type": "markdown",
   "metadata": {},
   "source": [
    "Luego, para **3D**"
   ]
  },
  {
   "cell_type": "code",
   "execution_count": 20,
   "metadata": {},
   "outputs": [
    {
     "data": {
      "application/vnd.plotly.v1+json": {
       "config": {
        "plotlyServerURL": "https://plot.ly"
       },
       "data": [
        {
         "hovertemplate": "x=%{x}<br>y=%{y}<br>z=%{z}<br>text=%{text}<extra></extra>",
         "legendgroup": "",
         "marker": {
          "color": "#636efa",
          "size": 2,
          "symbol": "circle"
         },
         "mode": "markers+text",
         "name": "",
         "scene": "scene",
         "showlegend": false,
         "text": [
          "de",
          "que",
          "la",
          "a",
          "y",
          "en",
          "el",
          "no",
          "se",
          "su",
          "con",
          "un",
          "por",
          "los",
          "lo",
          "una",
          "le",
          "las",
          "al",
          "es",
          "pero",
          "del",
          "había",
          "para",
          "me",
          "más",
          "usted",
          "como",
          "sus",
          "era",
          "si",
          "sin",
          "todo",
          "ha",
          "mi",
          "cuando",
          "muy",
          "él",
          "estaba",
          "yo",
          "qué",
          "tan",
          "he",
          "ya",
          "te",
          "dijo",
          "raskolnikoff",
          "elizabeth",
          "señor",
          "después",
          "sobre",
          "ella",
          "casa",
          "o",
          "dos",
          "bien",
          "nada",
          "tenía",
          "joven",
          "sí",
          "ni",
          "esta",
          "tiempo",
          "porque",
          "vez",
          "hasta",
          "ser",
          "fogg",
          "este",
          "ahora",
          "darcy",
          "eso",
          "¿qué",
          "mismo",
          "poco",
          "todos",
          "esto",
          "momento",
          "mucho",
          "sido",
          "otra",
          "está",
          "dorian",
          "señora",
          "hombre",
          "decir",
          "hecho",
          "ese",
          "siempre",
          "sólo",
          "ojos",
          "hacer",
          "así",
          "podía",
          "puerta",
          "algo",
          "desde",
          "día",
          "hermana",
          "antes"
         ],
         "type": "scatter3d",
         "x": {
          "bdata": "NX+iP8XYCcGo6yTBQqKmQMSdDETC+F1AO9iJQHPLaMSHO6FADRu6Qgb3Eb5iAg5CMraGwvbHJ0F4eu7B79ZgwEigmcDmBplAHUJWQUw8G8KBBhHBZRrUQcclhMHbfaXBoKQHwvxBc8GOgQHCohjWwIzpekAIprbB9a8EwvDS58EMShfCf0TgwXUKj8Gr6n1BfCIqwlGsbMG5TWxBaIUUwqou4sE+E97B0W3wwQu74sFHXALCcx0IwuyIY0E7bqPBrgcIwU49YcChHitCFlp2watymUGeGdjBlugXQjiTlsKYElvCdt4Pwmpl+0AXjqHC9diswM5dZcE56gtC4KGPwrcKTUHQsrdBF2yRwiIXC8Bx0x3BzrQ7wmjxy8EezKPCPo+Owo5LpME4NfrB3Ndkws5RgsLh5hpC0mSawr7dEcKqSRHC9k9EwuLACcK1E2nBLDr7wQLCc8JxJDnCAbITwv/sksIWdTdBEmjcQb5zecIHek3CrytGwY2kYULYAkHCFERpQX1C60HGgCHCfX0Rwg==",
          "dtype": "f4"
         },
         "y": {
          "bdata": "NPMJQVhYmUCm/NXDdSALv8dTTcNSYTdAzMV/wfYeOcNk0Km/6vYCwzDT0kH+f0xBpUNFwuJtcMLIkizAF8aoQQXAJkEKNNrA+dYFwPReDkB1AZVARS0cweb6E0LN+mFBoVmswKGLbEE1TAHBaKIKQTypR8Fs51lCXcZ1QC2iP0IT0oFBHFFpwJzwTcHTPOPAKcNLQkhPRUICBSZBYksHwTG0Z8KkOk5C1a4HwZAJ3UGzqAPBuk20QSZeh0FhwhhCZxJ+QT1NM0HJO3RCfOxBQtcMA8JEwk5CxCwewVVh30Exn69B3dsAQgloEkJv3l9BDyVQv8v6ekKOWABC/oewQdrvkUKzUCtCopEQQnCUzkAVuJVBc7dSQuKpBEKKO2nAklC0wWP2P0LEt45COTMXwosS70HGrE9CWfEAQJ0maMB0KXlCfxW/v5E+gUGSX6pBy1m8QaXE1D8DWUjCZqsvQcJud0GdoqBC9I9SQmHvHkLGjyLCiG2RQgi4gUHzjRtCtfCfQJnm8cFn6IpCS5J8Qg==",
          "dtype": "f4"
         },
         "z": {
          "bdata": "tbfhQEzU4D+WPw1Erm4MwAk4MsNMEJi/GwGeQrZrA8Lnbqg/gVWpwpw/+UD6s2lCPh0dwyezc8Eq6gfBGsenQD3fS8CglBRCFXnFwZgUaECotVrAdYd6wcr4sMF3e8s/OvsnwYmCJkEBQq7BuekvQNPPVEIFdU3B89IEwrVieEDpkpPBRS7pwc54ycGvYXXC1daWwKZxUsFT0FHCNIl/waZvpcE3e4HAPCPywXoIaMLLg1fBxSdNwnxXhcKsykPCIqVdwldgQMJid+NBxiBOws57WMLKOFFC32x2Qj8+yECQ5VvCsq/dwVm0ccLwBe+/3GU3QbAfG8KEBTPCdYfgwMAHAMKfvYDCcwUDQV01d8JfiprCjRwfQojnVsKEUcu/jK/fwQFSN8KMaTdB4PtpQSJKFsK9IzbC1YfBwefccMK17vdBkiBDwiIQK8IkxWfCcx29wd7WI8L69yvCoXCGwsi8AEJtqJFA++6XQWcHHT8jaQ9CEOYcwHil9sHtr0BCzYeWwofuTsIoUxhAhJ4Vwg==",
          "dtype": "f4"
         }
        }
       ],
       "layout": {
        "legend": {
         "tracegroupgap": 0
        },
        "margin": {
         "t": 60
        },
        "scene": {
         "domain": {
          "x": [
           0,
           1
          ],
          "y": [
           0,
           1
          ]
         },
         "xaxis": {
          "title": {
           "text": "x"
          }
         },
         "yaxis": {
          "title": {
           "text": "y"
          }
         },
         "zaxis": {
          "title": {
           "text": "z"
          }
         }
        },
        "template": {
         "data": {
          "bar": [
           {
            "error_x": {
             "color": "#2a3f5f"
            },
            "error_y": {
             "color": "#2a3f5f"
            },
            "marker": {
             "line": {
              "color": "#E5ECF6",
              "width": 0.5
             },
             "pattern": {
              "fillmode": "overlay",
              "size": 10,
              "solidity": 0.2
             }
            },
            "type": "bar"
           }
          ],
          "barpolar": [
           {
            "marker": {
             "line": {
              "color": "#E5ECF6",
              "width": 0.5
             },
             "pattern": {
              "fillmode": "overlay",
              "size": 10,
              "solidity": 0.2
             }
            },
            "type": "barpolar"
           }
          ],
          "carpet": [
           {
            "aaxis": {
             "endlinecolor": "#2a3f5f",
             "gridcolor": "white",
             "linecolor": "white",
             "minorgridcolor": "white",
             "startlinecolor": "#2a3f5f"
            },
            "baxis": {
             "endlinecolor": "#2a3f5f",
             "gridcolor": "white",
             "linecolor": "white",
             "minorgridcolor": "white",
             "startlinecolor": "#2a3f5f"
            },
            "type": "carpet"
           }
          ],
          "choropleth": [
           {
            "colorbar": {
             "outlinewidth": 0,
             "ticks": ""
            },
            "type": "choropleth"
           }
          ],
          "contour": [
           {
            "colorbar": {
             "outlinewidth": 0,
             "ticks": ""
            },
            "colorscale": [
             [
              0,
              "#0d0887"
             ],
             [
              0.1111111111111111,
              "#46039f"
             ],
             [
              0.2222222222222222,
              "#7201a8"
             ],
             [
              0.3333333333333333,
              "#9c179e"
             ],
             [
              0.4444444444444444,
              "#bd3786"
             ],
             [
              0.5555555555555556,
              "#d8576b"
             ],
             [
              0.6666666666666666,
              "#ed7953"
             ],
             [
              0.7777777777777778,
              "#fb9f3a"
             ],
             [
              0.8888888888888888,
              "#fdca26"
             ],
             [
              1,
              "#f0f921"
             ]
            ],
            "type": "contour"
           }
          ],
          "contourcarpet": [
           {
            "colorbar": {
             "outlinewidth": 0,
             "ticks": ""
            },
            "type": "contourcarpet"
           }
          ],
          "heatmap": [
           {
            "colorbar": {
             "outlinewidth": 0,
             "ticks": ""
            },
            "colorscale": [
             [
              0,
              "#0d0887"
             ],
             [
              0.1111111111111111,
              "#46039f"
             ],
             [
              0.2222222222222222,
              "#7201a8"
             ],
             [
              0.3333333333333333,
              "#9c179e"
             ],
             [
              0.4444444444444444,
              "#bd3786"
             ],
             [
              0.5555555555555556,
              "#d8576b"
             ],
             [
              0.6666666666666666,
              "#ed7953"
             ],
             [
              0.7777777777777778,
              "#fb9f3a"
             ],
             [
              0.8888888888888888,
              "#fdca26"
             ],
             [
              1,
              "#f0f921"
             ]
            ],
            "type": "heatmap"
           }
          ],
          "histogram": [
           {
            "marker": {
             "pattern": {
              "fillmode": "overlay",
              "size": 10,
              "solidity": 0.2
             }
            },
            "type": "histogram"
           }
          ],
          "histogram2d": [
           {
            "colorbar": {
             "outlinewidth": 0,
             "ticks": ""
            },
            "colorscale": [
             [
              0,
              "#0d0887"
             ],
             [
              0.1111111111111111,
              "#46039f"
             ],
             [
              0.2222222222222222,
              "#7201a8"
             ],
             [
              0.3333333333333333,
              "#9c179e"
             ],
             [
              0.4444444444444444,
              "#bd3786"
             ],
             [
              0.5555555555555556,
              "#d8576b"
             ],
             [
              0.6666666666666666,
              "#ed7953"
             ],
             [
              0.7777777777777778,
              "#fb9f3a"
             ],
             [
              0.8888888888888888,
              "#fdca26"
             ],
             [
              1,
              "#f0f921"
             ]
            ],
            "type": "histogram2d"
           }
          ],
          "histogram2dcontour": [
           {
            "colorbar": {
             "outlinewidth": 0,
             "ticks": ""
            },
            "colorscale": [
             [
              0,
              "#0d0887"
             ],
             [
              0.1111111111111111,
              "#46039f"
             ],
             [
              0.2222222222222222,
              "#7201a8"
             ],
             [
              0.3333333333333333,
              "#9c179e"
             ],
             [
              0.4444444444444444,
              "#bd3786"
             ],
             [
              0.5555555555555556,
              "#d8576b"
             ],
             [
              0.6666666666666666,
              "#ed7953"
             ],
             [
              0.7777777777777778,
              "#fb9f3a"
             ],
             [
              0.8888888888888888,
              "#fdca26"
             ],
             [
              1,
              "#f0f921"
             ]
            ],
            "type": "histogram2dcontour"
           }
          ],
          "mesh3d": [
           {
            "colorbar": {
             "outlinewidth": 0,
             "ticks": ""
            },
            "type": "mesh3d"
           }
          ],
          "parcoords": [
           {
            "line": {
             "colorbar": {
              "outlinewidth": 0,
              "ticks": ""
             }
            },
            "type": "parcoords"
           }
          ],
          "pie": [
           {
            "automargin": true,
            "type": "pie"
           }
          ],
          "scatter": [
           {
            "fillpattern": {
             "fillmode": "overlay",
             "size": 10,
             "solidity": 0.2
            },
            "type": "scatter"
           }
          ],
          "scatter3d": [
           {
            "line": {
             "colorbar": {
              "outlinewidth": 0,
              "ticks": ""
             }
            },
            "marker": {
             "colorbar": {
              "outlinewidth": 0,
              "ticks": ""
             }
            },
            "type": "scatter3d"
           }
          ],
          "scattercarpet": [
           {
            "marker": {
             "colorbar": {
              "outlinewidth": 0,
              "ticks": ""
             }
            },
            "type": "scattercarpet"
           }
          ],
          "scattergeo": [
           {
            "marker": {
             "colorbar": {
              "outlinewidth": 0,
              "ticks": ""
             }
            },
            "type": "scattergeo"
           }
          ],
          "scattergl": [
           {
            "marker": {
             "colorbar": {
              "outlinewidth": 0,
              "ticks": ""
             }
            },
            "type": "scattergl"
           }
          ],
          "scattermap": [
           {
            "marker": {
             "colorbar": {
              "outlinewidth": 0,
              "ticks": ""
             }
            },
            "type": "scattermap"
           }
          ],
          "scattermapbox": [
           {
            "marker": {
             "colorbar": {
              "outlinewidth": 0,
              "ticks": ""
             }
            },
            "type": "scattermapbox"
           }
          ],
          "scatterpolar": [
           {
            "marker": {
             "colorbar": {
              "outlinewidth": 0,
              "ticks": ""
             }
            },
            "type": "scatterpolar"
           }
          ],
          "scatterpolargl": [
           {
            "marker": {
             "colorbar": {
              "outlinewidth": 0,
              "ticks": ""
             }
            },
            "type": "scatterpolargl"
           }
          ],
          "scatterternary": [
           {
            "marker": {
             "colorbar": {
              "outlinewidth": 0,
              "ticks": ""
             }
            },
            "type": "scatterternary"
           }
          ],
          "surface": [
           {
            "colorbar": {
             "outlinewidth": 0,
             "ticks": ""
            },
            "colorscale": [
             [
              0,
              "#0d0887"
             ],
             [
              0.1111111111111111,
              "#46039f"
             ],
             [
              0.2222222222222222,
              "#7201a8"
             ],
             [
              0.3333333333333333,
              "#9c179e"
             ],
             [
              0.4444444444444444,
              "#bd3786"
             ],
             [
              0.5555555555555556,
              "#d8576b"
             ],
             [
              0.6666666666666666,
              "#ed7953"
             ],
             [
              0.7777777777777778,
              "#fb9f3a"
             ],
             [
              0.8888888888888888,
              "#fdca26"
             ],
             [
              1,
              "#f0f921"
             ]
            ],
            "type": "surface"
           }
          ],
          "table": [
           {
            "cells": {
             "fill": {
              "color": "#EBF0F8"
             },
             "line": {
              "color": "white"
             }
            },
            "header": {
             "fill": {
              "color": "#C8D4E3"
             },
             "line": {
              "color": "white"
             }
            },
            "type": "table"
           }
          ]
         },
         "layout": {
          "annotationdefaults": {
           "arrowcolor": "#2a3f5f",
           "arrowhead": 0,
           "arrowwidth": 1
          },
          "autotypenumbers": "strict",
          "coloraxis": {
           "colorbar": {
            "outlinewidth": 0,
            "ticks": ""
           }
          },
          "colorscale": {
           "diverging": [
            [
             0,
             "#8e0152"
            ],
            [
             0.1,
             "#c51b7d"
            ],
            [
             0.2,
             "#de77ae"
            ],
            [
             0.3,
             "#f1b6da"
            ],
            [
             0.4,
             "#fde0ef"
            ],
            [
             0.5,
             "#f7f7f7"
            ],
            [
             0.6,
             "#e6f5d0"
            ],
            [
             0.7,
             "#b8e186"
            ],
            [
             0.8,
             "#7fbc41"
            ],
            [
             0.9,
             "#4d9221"
            ],
            [
             1,
             "#276419"
            ]
           ],
           "sequential": [
            [
             0,
             "#0d0887"
            ],
            [
             0.1111111111111111,
             "#46039f"
            ],
            [
             0.2222222222222222,
             "#7201a8"
            ],
            [
             0.3333333333333333,
             "#9c179e"
            ],
            [
             0.4444444444444444,
             "#bd3786"
            ],
            [
             0.5555555555555556,
             "#d8576b"
            ],
            [
             0.6666666666666666,
             "#ed7953"
            ],
            [
             0.7777777777777778,
             "#fb9f3a"
            ],
            [
             0.8888888888888888,
             "#fdca26"
            ],
            [
             1,
             "#f0f921"
            ]
           ],
           "sequentialminus": [
            [
             0,
             "#0d0887"
            ],
            [
             0.1111111111111111,
             "#46039f"
            ],
            [
             0.2222222222222222,
             "#7201a8"
            ],
            [
             0.3333333333333333,
             "#9c179e"
            ],
            [
             0.4444444444444444,
             "#bd3786"
            ],
            [
             0.5555555555555556,
             "#d8576b"
            ],
            [
             0.6666666666666666,
             "#ed7953"
            ],
            [
             0.7777777777777778,
             "#fb9f3a"
            ],
            [
             0.8888888888888888,
             "#fdca26"
            ],
            [
             1,
             "#f0f921"
            ]
           ]
          },
          "colorway": [
           "#636efa",
           "#EF553B",
           "#00cc96",
           "#ab63fa",
           "#FFA15A",
           "#19d3f3",
           "#FF6692",
           "#B6E880",
           "#FF97FF",
           "#FECB52"
          ],
          "font": {
           "color": "#2a3f5f"
          },
          "geo": {
           "bgcolor": "white",
           "lakecolor": "white",
           "landcolor": "#E5ECF6",
           "showlakes": true,
           "showland": true,
           "subunitcolor": "white"
          },
          "hoverlabel": {
           "align": "left"
          },
          "hovermode": "closest",
          "mapbox": {
           "style": "light"
          },
          "paper_bgcolor": "white",
          "plot_bgcolor": "#E5ECF6",
          "polar": {
           "angularaxis": {
            "gridcolor": "white",
            "linecolor": "white",
            "ticks": ""
           },
           "bgcolor": "#E5ECF6",
           "radialaxis": {
            "gridcolor": "white",
            "linecolor": "white",
            "ticks": ""
           }
          },
          "scene": {
           "xaxis": {
            "backgroundcolor": "#E5ECF6",
            "gridcolor": "white",
            "gridwidth": 2,
            "linecolor": "white",
            "showbackground": true,
            "ticks": "",
            "zerolinecolor": "white"
           },
           "yaxis": {
            "backgroundcolor": "#E5ECF6",
            "gridcolor": "white",
            "gridwidth": 2,
            "linecolor": "white",
            "showbackground": true,
            "ticks": "",
            "zerolinecolor": "white"
           },
           "zaxis": {
            "backgroundcolor": "#E5ECF6",
            "gridcolor": "white",
            "gridwidth": 2,
            "linecolor": "white",
            "showbackground": true,
            "ticks": "",
            "zerolinecolor": "white"
           }
          },
          "shapedefaults": {
           "line": {
            "color": "#2a3f5f"
           }
          },
          "ternary": {
           "aaxis": {
            "gridcolor": "white",
            "linecolor": "white",
            "ticks": ""
           },
           "baxis": {
            "gridcolor": "white",
            "linecolor": "white",
            "ticks": ""
           },
           "bgcolor": "#E5ECF6",
           "caxis": {
            "gridcolor": "white",
            "linecolor": "white",
            "ticks": ""
           }
          },
          "title": {
           "x": 0.05
          },
          "xaxis": {
           "automargin": true,
           "gridcolor": "white",
           "linecolor": "white",
           "ticks": "",
           "title": {
            "standoff": 15
           },
           "zerolinecolor": "white",
           "zerolinewidth": 2
          },
          "yaxis": {
           "automargin": true,
           "gridcolor": "white",
           "linecolor": "white",
           "ticks": "",
           "title": {
            "standoff": 15
           },
           "zerolinecolor": "white",
           "zerolinewidth": 2
          }
         }
        }
       }
      }
     },
     "metadata": {},
     "output_type": "display_data"
    }
   ],
   "source": [
    "vecs, labels = reduce_dimensionality(w2v_model,3)\n",
    "\n",
    "MAX_WORDS_3D = 100\n",
    "fig = px.scatter_3d(x=vecs[:MAX_WORDS_3D,0], y=vecs[:MAX_WORDS_3D,1], z=vecs[:MAX_WORDS_3D,2],text=labels[:MAX_WORDS_3D])\n",
    "fig.update_traces(marker_size = 2)"
   ]
  },
  {
   "cell_type": "markdown",
   "metadata": {},
   "source": [
    "**Conclusiones:**\n",
    "\n",
    "A partir de los graficos 2D y 3D podemos observar que:\n",
    "\n",
    "**Gráfico 2D**\n",
    "\n",
    "- La mayoría de las palabras se agrupan en una región muy chica del espacio, lo que indica que los vectores generados comparten direcciones similares. Esto sugiere que el modelo no logra diferenciar claramente los contextos semánticos entre gran parte del vocabulario.\n",
    "\n",
    "- Se observan algunas palabras aisladas del núcleo, como \"habitación\", \"puerta\" u \"ojos\", que probablemente aparecen en contextos más específicos dentro del corpus.\n",
    "\n",
    "- Aparecen también nombres propios como \"gregorio\", \"elizabeth\" o \"razumikin\", posicionados más alejados del conjunto principal, lo que puede explicarse por sus apariciones recurrentes pero en contextos narrativos muy particulares.\n",
    "\n",
    "\n",
    "**Gráfico 3D**\n",
    "\n",
    "- El conjunto principal de palabras se concentra en un volumen reducido cerca del origen, lo que refleja una baja dispersión en el espacio vectorial y, por tanto, poca diferenciación entre los significados representados.\n",
    "\n",
    "- Algunas palabras frecuentes como \"la\", \"no\" o \"por\", aparecen completamente separadas del resto, lo cual puede deberse a que su alta frecuencia en el corpus.\n",
    "\n",
    "- La forma general de la nube evidencia una asimetría, con algunos puntos alejados del centro, lo que indica que ciertas palabras presentan dimensiones latentes que el modelo logró distinguir parcialmente."
   ]
  }
 ],
 "metadata": {
  "kernelspec": {
   "display_name": "EIA",
   "language": "python",
   "name": "python3"
  },
  "language_info": {
   "codemirror_mode": {
    "name": "ipython",
    "version": 3
   },
   "file_extension": ".py",
   "mimetype": "text/x-python",
   "name": "python",
   "nbconvert_exporter": "python",
   "pygments_lexer": "ipython3",
   "version": "3.11.9"
  }
 },
 "nbformat": 4,
 "nbformat_minor": 2
}
